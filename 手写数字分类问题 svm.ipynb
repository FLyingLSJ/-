{
 "cells": [
  {
   "cell_type": "markdown",
   "metadata": {},
   "source": [
    "readme：\n",
    "使用 SVM 对手写数字进行识别。使用了主成分分析（PCA）、网格搜索、构建显示主要分类指标的文本报告、混淆矩阵等。"
   ]
  },
  {
   "cell_type": "code",
   "execution_count": 7,
   "metadata": {},
   "outputs": [
    {
     "name": "stdout",
     "output_type": "stream",
     "text": [
      "load digits data....\n",
      "data shape: (1797, 64)\n",
      "target shape: (1797,)\n",
      "target_names shape (10,)\n",
      "------------\n",
      "split data/target into train and test set...\n",
      "X_train.shape: (1347, 64) X_test.shape: (450, 64)\n",
      "------------\n",
      "visulization digits...\n"
     ]
    },
    {
     "data": {
      "image/png": "[encoded data removed]",
      "text/plain": [
       "<Figure size 720x288 with 40 Axes>"
      ]
     },
     "metadata": {},
     "output_type": "display_data"
    }
   ],
   "source": [
    "from sklearn.datasets import load_digits # 数据集\n",
    "import numpy as np\n",
    "import matplotlib.pyplot as plt\n",
    "from sklearn.metrics import classification_report, confusion_matrix\n",
    "from sklearn.model_selection import train_test_split\n",
    "from sklearn.decomposition import PCA\n",
    "from time import time\n",
    "\n",
    "print(\"load digits data....\")\n",
    "digits = load_digits()\n",
    "data = digits.data\n",
    "target = digits.target\n",
    "target_names = digits.target_names\n",
    "print(\"data shape:\", data.shape)\n",
    "print(\"target shape:\", target.shape)\n",
    "print(\"target_names shape\", target_names.shape)\n",
    "print(\"------------\")\n",
    "\n",
    "print(\"split data/target into train and test set...\")\n",
    "X_train, X_test, y_train, y_test = train_test_split(data, target, test_size=0.25, random_state=42)\n",
    "print(\"X_train.shape:\", X_train.shape, 'X_test.shape:', X_test.shape)\n",
    "print(\"------------\")\n",
    "\n",
    "# 可视化数据\n",
    "print(\"visulization digits...\")\n",
    "def plot_digits(data):\n",
    "    fig, axes = plt.subplots(4, 10, figsize=(10, 4), subplot_kw={'xticks':[], 'yticks':[]}, gridspec_kw=dict(hspace=0.1, wspace=0.1))\n",
    "    for i, ax in enumerate(axes.flat):\n",
    "        ax.imshow(data[i].reshape(8, 8), cmap='binary', interpolation='nearest', clim=(0, 16))\n",
    "\n",
    "plot_digits(data)"
   ]
  },
  {
   "cell_type": "code",
   "execution_count": 2,
   "metadata": {
    "scrolled": true
   },
   "outputs": [
    {
     "name": "stdout",
     "output_type": "stream",
     "text": [
      "PCA...\n"
     ]
    },
    {
     "data": {
      "image/png": "[encoded data removed]",
      "text/plain": [
       "<Figure size 432x288 with 1 Axes>"
      ]
     },
     "metadata": {
      "needs_background": "light"
     },
     "output_type": "display_data"
    }
   ],
   "source": [
    "# PCA 分析\n",
    "print(\"PCA...\")\n",
    "pca = PCA().fit(X_train)\n",
    "plt.plot(np.cumsum(pca.explained_variance_ratio_))\n",
    "plt.xlabel(\"num of components\")\n",
    "plt.ylabel('cumulative explained variance');"
   ]
  },
  {
   "cell_type": "markdown",
   "metadata": {},
   "source": [
    "只需要 50 个左右的特征就可以尽可能的描述原来的图像"
   ]
  },
  {
   "cell_type": "code",
   "execution_count": 3,
   "metadata": {},
   "outputs": [
    {
     "name": "stdout",
     "output_type": "stream",
     "text": [
      "PCA 分析...\n",
      "done is 0.034s\n"
     ]
    },
    {
     "data": {
      "text/plain": [
       "(50, 64)"
      ]
     },
     "execution_count": 3,
     "metadata": {},
     "output_type": "execute_result"
    }
   ],
   "source": [
    "del pca\n",
    "print(\"PCA 分析...\")\n",
    "t0 = time()\n",
    "pca = PCA(n_components=50, svd_solver=\"randomized\", whiten=True).fit(X_train)\n",
    "print(\"done is %0.3fs\" % (time()-t0))\n",
    "pca.components_.shape"
   ]
  },
  {
   "cell_type": "code",
   "execution_count": 4,
   "metadata": {},
   "outputs": [
    {
     "name": "stdout",
     "output_type": "stream",
     "text": [
      "done is 0.003s\n",
      "X_train_pca shape (1347, 50)\n",
      "X_test_pca shape (450, 50)\n"
     ]
    }
   ],
   "source": [
    "t0 = time()\n",
    "X_train_pca = pca.transform(X_train)\n",
    "X_test_pca = pca.transform(X_test)\n",
    "print(\"done is %0.3fs\" % (time()-t0))\n",
    "print(\"X_train_pca shape\", X_train_pca.shape)\n",
    "print(\"X_test_pca shape\", X_test_pca.shape)"
   ]
  },
  {
   "cell_type": "code",
   "execution_count": 5,
   "metadata": {},
   "outputs": [
    {
     "name": "stdout",
     "output_type": "stream",
     "text": [
      "Grid search use SVM\n",
      "done is 0.000s\n",
      "Best estimator found by grid search:\n",
      "SVC(C=1000.0, cache_size=200, class_weight='balanced', coef0=0.0,\n",
      "  decision_function_shape='ovr', degree=3, gamma=0.01, kernel='rbf',\n",
      "  max_iter=-1, probability=False, random_state=None, shrinking=True,\n",
      "  tol=0.001, verbose=False)\n"
     ]
    }
   ],
   "source": [
    "from sklearn.svm import SVC\n",
    "from sklearn.model_selection import GridSearchCV # 网格搜索\n",
    "print(\"Grid search use SVM\")\n",
    "t0 = time()\n",
    "svc = SVC(kernel='rbf', class_weight='balanced')\n",
    "param_grid = {'C': [1e3, 5e3, 1e4, 5e4, 1e5],\n",
    "              'gamma': [0.0001, 0.0005, 0.001, 0.005, 0.01, 0.1]}\n",
    "clf = GridSearchCV(svc, param_grid, cv=5)\n",
    "print(\"done is %0.3fs\" % (time()-t0))\n",
    "clf.fit(X_train_pca, y_train)\n",
    "print(\"Best estimator found by grid search:\")\n",
    "print(clf.best_estimator_)"
   ]
  },
  {
   "cell_type": "code",
   "execution_count": 6,
   "metadata": {},
   "outputs": [
    {
     "name": "stdout",
     "output_type": "stream",
     "text": [
      "              precision    recall  f1-score   support\n",
      "\n",
      "           0       1.00      1.00      1.00        43\n",
      "           1       0.97      1.00      0.99        37\n",
      "           2       0.97      0.97      0.97        38\n",
      "           3       0.98      0.96      0.97        46\n",
      "           4       1.00      1.00      1.00        55\n",
      "           5       0.97      1.00      0.98        59\n",
      "           6       1.00      0.98      0.99        45\n",
      "           7       1.00      0.98      0.99        41\n",
      "           8       0.97      1.00      0.99        38\n",
      "           9       0.98      0.96      0.97        48\n",
      "\n",
      "   micro avg       0.98      0.98      0.98       450\n",
      "   macro avg       0.98      0.98      0.98       450\n",
      "weighted avg       0.98      0.98      0.98       450\n",
      "\n",
      "[[43  0  0  0  0  0  0  0  0  0]\n",
      " [ 0 37  0  0  0  0  0  0  0  0]\n",
      " [ 0  1 37  0  0  0  0  0  0  0]\n",
      " [ 0  0  1 44  0  1  0  0  0  0]\n",
      " [ 0  0  0  0 55  0  0  0  0  0]\n",
      " [ 0  0  0  0  0 59  0  0  0  0]\n",
      " [ 0  0  0  0  0  1 44  0  0  0]\n",
      " [ 0  0  0  0  0  0  0 40  0  1]\n",
      " [ 0  0  0  0  0  0  0  0 38  0]\n",
      " [ 0  0  0  1  0  0  0  0  1 46]]\n"
     ]
    }
   ],
   "source": [
    "y_predicted = clf.predict(X_test_pca)\n",
    "# 构建显示主要分类指标的文本报告\n",
    "print(classification_report(y_true=y_test, y_pred=y_predicted, labels=target_names)) \n",
    "# 混淆矩阵\n",
    "print(confusion_matrix(y_true=y_test, y_pred=y_predicted, labels=target_names))"
   ]
  },
  {
   "cell_type": "code",
   "execution_count": null,
   "metadata": {},
   "outputs": [],
   "source": []
  }
 ],
 "metadata": {
  "kernelspec": {
   "display_name": "Python 3",
   "language": "python",
   "name": "python3"
  },
  "language_info": {
   "codemirror_mode": {
    "name": "ipython",
    "version": 3
   },
   "file_extension": ".py",
   "mimetype": "text/x-python",
   "name": "python",
   "nbconvert_exporter": "python",
   "pygments_lexer": "ipython3",
   "version": "3.6.6"
  }
 },
 "nbformat": 4,
 "nbformat_minor": 2
}
